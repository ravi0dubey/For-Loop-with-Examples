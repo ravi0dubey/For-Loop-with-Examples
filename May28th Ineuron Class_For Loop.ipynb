{
 "cells": [
  {
   "cell_type": "code",
   "execution_count": 6,
   "id": "7da21905",
   "metadata": {},
   "outputs": [
    {
     "name": "stdout",
     "output_type": "stream",
     "text": [
      "Enter char which you would like to guess in the string: a\n",
      "R\n",
      "Your guess is correct\n"
     ]
    }
   ],
   "source": [
    "#For Loop Basic\n",
    "your_char = input(\"Enter char which you would like to guess in the string: \")\n",
    "s = \"Ravi Ranjan\"\n",
    "for i in s:\n",
    "    if i == your_char:        \n",
    "        print(\"Your guess is correct\")\n",
    "        break\n",
    "    print(i)\n",
    "else: #it will print only when For Loop exhaust completely\n",
    "    print(\"Your guess i not correct\")"
   ]
  },
  {
   "cell_type": "code",
   "execution_count": 8,
   "id": "248814ae",
   "metadata": {},
   "outputs": [
    {
     "name": "stdout",
     "output_type": "stream",
     "text": [
      "94\n",
      "5\n",
      "Ravi\n",
      "6\n",
      "Ranjan\n",
      "7\n",
      "8\n"
     ]
    }
   ],
   "source": [
    "#extracting data from Tuples\n",
    "\n",
    "t = (94,5,\"Ravi\",6,\"Ranjan\",7,8)\n",
    "\n",
    "for i in t:\n",
    "    print(i)"
   ]
  },
  {
   "cell_type": "code",
   "execution_count": 11,
   "id": "c69beaaf",
   "metadata": {},
   "outputs": [
    {
     "name": "stdout",
     "output_type": "stream",
     "text": [
      "baba\n",
      "5\n",
      "ravi\n",
      "94\n",
      "95\n"
     ]
    }
   ],
   "source": [
    "#extracting data from set\n",
    "\n",
    "s ={94,\"ravi\",5,95,\"baba\",95,\"ravi\"}\n",
    "for i in s:\n",
    "    print(i)"
   ]
  },
  {
   "cell_type": "code",
   "execution_count": 20,
   "id": "be077baf",
   "metadata": {},
   "outputs": [
    {
     "name": "stdout",
     "output_type": "stream",
     "text": [
      "name,Ravi Ranjan\n",
      "Age,39\n",
      "Sex,Male\n",
      "Designation,Software Engineer\n",
      "******\n",
      "name Ravi Ranjan\n",
      "Age 39\n",
      "Sex Male\n",
      "Designation Software Engineer\n"
     ]
    }
   ],
   "source": [
    "#extracting data from dictionary\n",
    "\n",
    "d ={\"name\": \"Ravi Ranjan\", \"Age\": 39, \"Sex\": 'Male', \"Designation\" : \"Software Engineer\"}\n",
    "for i in d:\n",
    "    print(f\"{i},{d[i]}\") #it will display values separated by comman\n",
    "print(\"******\")\n",
    "for i in d:\n",
    "    print(i,d[i]) #it will display values without separation by comman"
   ]
  },
  {
   "cell_type": "code",
   "execution_count": 46,
   "id": "9acfb936",
   "metadata": {},
   "outputs": [
    {
     "name": "stdout",
     "output_type": "stream",
     "text": [
      " ravi\n",
      " raviravi\n",
      " raviraviravi\n",
      " raviraviraviravi\n",
      " raviraviraviraviravi\n",
      " raviraviraviraviraviravi\n",
      " raviraviraviraviraviraviravi\n",
      " raviraviraviraviraviraviraviravi\n",
      " raviraviraviraviraviraviraviraviravi\n"
     ]
    }
   ],
   "source": [
    "for i in range(1,10):\n",
    "    a = ' '\n",
    "    for j in range(0,i):\n",
    "        a += \"ravi\"\n",
    "    print(a)          "
   ]
  },
  {
   "cell_type": "code",
   "execution_count": 53,
   "id": "08493ea7",
   "metadata": {},
   "outputs": [
    {
     "name": "stdout",
     "output_type": "stream",
     "text": [
      "ravi \n",
      "\n",
      "ravi ravi \n",
      "\n",
      "ravi ravi ravi \n",
      "\n",
      "ravi ravi ravi ravi \n",
      "\n",
      "ravi ravi ravi ravi ravi \n",
      "\n",
      "ravi ravi ravi ravi ravi ravi \n",
      "\n",
      "ravi ravi ravi ravi ravi ravi ravi \n",
      "\n",
      "ravi ravi ravi ravi ravi ravi ravi ravi \n",
      "\n",
      "ravi ravi ravi ravi ravi ravi ravi ravi ravi \n",
      "\n"
     ]
    }
   ],
   "source": [
    "for i in range(1,10):\n",
    "    for j in range(0,i):\n",
    "        print(\"ravi\", end = \" \")\n",
    "    print(\"\\n\")"
   ]
  },
  {
   "cell_type": "code",
   "execution_count": 65,
   "id": "d3717c88",
   "metadata": {},
   "outputs": [
    {
     "name": "stdout",
     "output_type": "stream",
     "text": [
      "                         ravilika\n",
      "\n",
      "                    ravilikaravilikaasthilli\n",
      "\n",
      "               ravilikaravilikaravilikaasthilliasthilli\n",
      "\n",
      "          ravilikaravilikaravilikaravilikaasthilliasthilliasthilli\n",
      "\n",
      "     ravilikaravilikaravilikaravilikaravilikaasthilliasthilliasthilliasthilli\n",
      "\n",
      "ravilikaravilikaravilikaravilikaravilikaravilikaasthilliasthilliasthilliasthilliasthilli\n",
      "\n"
     ]
    }
   ],
   "source": [
    "n = 6\n",
    "for i in range(0,n):\n",
    "    for j in range(i,n-1):\n",
    "        print(\" \"*len(\"ravi\"), end = \" \" )\n",
    "    for j in range(i+1):\n",
    "        print(\"ravi\", end = \"lika\")\n",
    "    for j in range(i):\n",
    "        print(\"asth\", end = \"illi\")\n",
    "    print(\"\\n\")"
   ]
  },
  {
   "cell_type": "code",
   "execution_count": 67,
   "id": "a0999f35",
   "metadata": {},
   "outputs": [
    {
     "name": "stdout",
     "output_type": "stream",
     "text": [
      "enter your name: Lika \n",
      "                              Lika  \n",
      "\n",
      "                        Lika  Lika  Lika  \n",
      "\n",
      "                  Lika  Lika  Lika  Lika  Lika  \n",
      "\n",
      "            Lika  Lika  Lika  Lika  Lika  Lika  Lika  \n",
      "\n",
      "      Lika  Lika  Lika  Lika  Lika  Lika  Lika  Lika  Lika  \n",
      "\n",
      "Lika  Lika  Lika  Lika  Lika  Lika  Lika  Lika  Lika  Lika  Lika  \n",
      "\n"
     ]
    }
   ],
   "source": [
    "name = input(\"enter your name: \")\n",
    "n = 6\n",
    "for i in range(0,n):\n",
    "    for j in range(i,n-1):\n",
    "        print(\" \"*len(name), end = \" \" )\n",
    "    for j in range(i+1):\n",
    "        print(name, end = \" \")\n",
    "    for j in range(i):\n",
    "        print(name, end = \" \")\n",
    "    print(\"\\n\")"
   ]
  },
  {
   "cell_type": "code",
   "execution_count": 71,
   "id": "d9e87393",
   "metadata": {},
   "outputs": [
    {
     "name": "stdout",
     "output_type": "stream",
     "text": [
      "0 : 3\n",
      "1 : 23\n",
      "2 : 45\n",
      "3 : 67\n",
      "4 : 2\n",
      "5 : 4\n",
      "6 : 5\n",
      "7 : 6\n"
     ]
    }
   ],
   "source": [
    "#Print index and element of index of tuple\n",
    "t =(3,23,45,67,2,4,5,6)\n",
    "for i in range(len(t)):\n",
    "    print(i,\":\",t[i])"
   ]
  },
  {
   "cell_type": "code",
   "execution_count": 74,
   "id": "be877b52",
   "metadata": {},
   "outputs": [
    {
     "name": "stdout",
     "output_type": "stream",
     "text": [
      "0 : i\n",
      "1 : n\n",
      "2 : e\n",
      "3 : u\n",
      "4 : r\n",
      "5 : o\n",
      "6 : n\n"
     ]
    }
   ],
   "source": [
    "#Print index and element of index of string\n",
    "s = \"ineuron\"\n",
    "for i in range(len(s)):\n",
    "    print(i,\":\",s[i])"
   ]
  },
  {
   "cell_type": "code",
   "execution_count": 83,
   "id": "2ab06c32",
   "metadata": {},
   "outputs": [
    {
     "name": "stdout",
     "output_type": "stream",
     "text": [
      "6 n\n",
      "5 o\n",
      "4 r\n",
      "3 u\n",
      "2 e\n",
      "1 n\n",
      "0 i\n"
     ]
    }
   ],
   "source": [
    "#Print index and element of index of string in reverse order\n",
    "s = \"ineuron\"\n",
    "length = len(s) -1\n",
    "for i in range(length,-1,-1):\n",
    "    print(i,s[i])\n",
    "    "
   ]
  },
  {
   "cell_type": "code",
   "execution_count": 87,
   "id": "7d03c6f0",
   "metadata": {},
   "outputs": [
    {
     "name": "stdout",
     "output_type": "stream",
     "text": [
      "[456, 1234, 9991, 1982]\n"
     ]
    }
   ],
   "source": [
    "#Print numeric element only and append in the list\n",
    "l2=[]\n",
    "l1 =[\"Ravi\", \"kumar\", 456, \"ranjan\", 1234, 9991, \"dubey\", 1982]\n",
    "for i in l1:\n",
    "    if type(i)== int:\n",
    "        l2.append(i)\n",
    "print(l2)"
   ]
  },
  {
   "cell_type": "code",
   "execution_count": 92,
   "id": "199e8448",
   "metadata": {},
   "outputs": [
    {
     "name": "stdout",
     "output_type": "stream",
     "text": [
      "1 : 3456\n",
      "456 : radha babu\n",
      "1982 : Birthyear\n"
     ]
    }
   ],
   "source": [
    "#print key value pair where key is only numeric value\n",
    "d ={1:3456, \"name\" : \"ravi\", \"email\": \"ravi0@gmail.com\", 456: \"radha babu\", \"jampa\" : 998,  1982:\"Birthyear\", \"Birthday\" : 1501198}\n",
    "\n",
    "for i in d:\n",
    "    if type(i)== int:\n",
    "        print(i,\":\",d[i])"
   ]
  },
  {
   "cell_type": "code",
   "execution_count": 100,
   "id": "acc68e37",
   "metadata": {},
   "outputs": [
    {
     "name": "stdout",
     "output_type": "stream",
     "text": [
      "d : 1\n",
      "b : 2\n",
      "a : 4\n",
      "c : 2\n"
     ]
    }
   ],
   "source": [
    "#print unique element in the string and its count\n",
    "\n",
    "s = \"aaaabbccd\"\n",
    "for i in set(s):\n",
    "    print(i,\":\",s.count(i))\n"
   ]
  },
  {
   "cell_type": "code",
   "execution_count": 107,
   "id": "523ded2c",
   "metadata": {},
   "outputs": [
    {
     "name": "stdout",
     "output_type": "stream",
     "text": [
      "1 : 4\n",
      "2 : 2\n",
      "3 : 1\n",
      "6 : 1\n",
      "8 : 5\n",
      "7 : 2\n",
      "4 : 1\n"
     ]
    }
   ],
   "source": [
    "#print unique element in the Integer and its count\n",
    "i = 1234767182181888\n",
    "st= str(i)\n",
    "for j in set(st):\n",
    "    print(j,\":\",st.count(j))"
   ]
  },
  {
   "cell_type": "code",
   "execution_count": 151,
   "id": "42018ba4",
   "metadata": {},
   "outputs": [
    {
     "name": "stdout",
     "output_type": "stream",
     "text": [
      "3\n",
      "3\n",
      "3 : Kumar\n",
      "dubey : 3\n",
      "7 : 3\n"
     ]
    }
   ],
   "source": [
    "#print 3 from the below list of element \n",
    "#in case of dictionary print where key is 3 or value is 3\n",
    "t =(\"ravi\",\"ranjan\",[1,2,3,4,5], (6,7,8,3),{\"key1\": \"ravi\", \"key2\": \"ranjan\", 3: \"Kumar\", \"dubey\" : 3, \"Radha\": 5, 7:3} ) \n",
    "for i in t:\n",
    "    if type(i) == list or type(i) == tuple: \n",
    "        for j in i:\n",
    "            if j == 3:\n",
    "                print(j)\n",
    "    if type(i)== dict:\n",
    "        for k in i:\n",
    "            if k == 3 or i[k]== 3:\n",
    "                print(k,\":\",i[k])"
   ]
  },
  {
   "cell_type": "code",
   "execution_count": 157,
   "id": "1da19dc2",
   "metadata": {},
   "outputs": [
    {
     "name": "stdout",
     "output_type": "stream",
     "text": [
      "3\n",
      "3\n"
     ]
    },
    {
     "ename": "AttributeError",
     "evalue": "'dict' object has no attribute 'key'",
     "output_type": "error",
     "traceback": [
      "\u001b[1;31m---------------------------------------------------------------------------\u001b[0m",
      "\u001b[1;31mAttributeError\u001b[0m                            Traceback (most recent call last)",
      "\u001b[1;32m~\\AppData\\Local\\Temp/ipykernel_38212/1443412568.py\u001b[0m in \u001b[0;36m<module>\u001b[1;34m\u001b[0m\n\u001b[0;32m      9\u001b[0m                 \u001b[0mprint\u001b[0m\u001b[1;33m(\u001b[0m\u001b[0mj\u001b[0m\u001b[1;33m)\u001b[0m\u001b[1;33m\u001b[0m\u001b[1;33m\u001b[0m\u001b[0m\n\u001b[0;32m     10\u001b[0m     \u001b[1;32mif\u001b[0m \u001b[0mtype\u001b[0m\u001b[1;33m(\u001b[0m\u001b[0mi\u001b[0m\u001b[1;33m)\u001b[0m\u001b[1;33m==\u001b[0m \u001b[0mdict\u001b[0m\u001b[1;33m:\u001b[0m\u001b[1;33m\u001b[0m\u001b[1;33m\u001b[0m\u001b[0m\n\u001b[1;32m---> 11\u001b[1;33m         \u001b[1;32mfor\u001b[0m \u001b[0mk\u001b[0m\u001b[1;33m,\u001b[0m\u001b[0mv\u001b[0m \u001b[1;32min\u001b[0m \u001b[0mi\u001b[0m\u001b[1;33m.\u001b[0m\u001b[0mkey\u001b[0m\u001b[1;33m(\u001b[0m\u001b[1;33m)\u001b[0m\u001b[1;33m:\u001b[0m\u001b[1;33m\u001b[0m\u001b[1;33m\u001b[0m\u001b[0m\n\u001b[0m\u001b[0;32m     12\u001b[0m             \u001b[1;32mif\u001b[0m \u001b[0mk\u001b[0m \u001b[1;33m==\u001b[0m \u001b[1;36m3\u001b[0m \u001b[1;32mor\u001b[0m \u001b[0mv\u001b[0m\u001b[1;33m==\u001b[0m \u001b[1;36m3\u001b[0m\u001b[1;33m:\u001b[0m\u001b[1;33m\u001b[0m\u001b[1;33m\u001b[0m\u001b[0m\n\u001b[0;32m     13\u001b[0m                 \u001b[0mprint\u001b[0m\u001b[1;33m(\u001b[0m\u001b[0mk\u001b[0m\u001b[1;33m,\u001b[0m\u001b[1;34m\":\"\u001b[0m\u001b[1;33m,\u001b[0m\u001b[0mv\u001b[0m\u001b[1;33m)\u001b[0m\u001b[1;33m\u001b[0m\u001b[1;33m\u001b[0m\u001b[0m\n",
      "\u001b[1;31mAttributeError\u001b[0m: 'dict' object has no attribute 'key'"
     ]
    }
   ],
   "source": [
    "#Another way of working\n",
    "#print 3 from the below list of element \n",
    "#in case of dictionary print where key is 3 or value is 3\n",
    "t =(\"ravi\",\"ranjan\",[1,2,3,4,5], (6,7,8,3),{\"key1\": \"ravi\", \"key2\": \"ranjan\", 3: \"Kumar\", \"dubey\" : 3, \"Radha\": 5, 7:3} ) \n",
    "for i in t:\n",
    "    if type(i) == list or type(i) == tuple: \n",
    "        for j in i:\n",
    "            if j == 3:\n",
    "                print(j)\n",
    "    if type(i)== dict:\n",
    "        for k,v in i.items():\n",
    "            if k == 3 or v== 3:\n",
    "                print(k,\":\",v)"
   ]
  },
  {
   "cell_type": "code",
   "execution_count": 152,
   "id": "ce134fb9",
   "metadata": {},
   "outputs": [
    {
     "name": "stdout",
     "output_type": "stream",
     "text": [
      "1\n",
      "2\n",
      "3\n"
     ]
    }
   ],
   "source": [
    "Variable declaration\n",
    "x,y,z=1,2,3\n",
    "print(x)\n",
    "print(y)\n",
    "print(z)"
   ]
  },
  {
   "cell_type": "code",
   "execution_count": 160,
   "id": "93d7b429",
   "metadata": {},
   "outputs": [],
   "source": [
    "# Q1: Print \n",
    "# ineuron\n",
    "# ineuron ineuron\n",
    "# ineuron inueron ineuron\n",
    "# ineuron ineuron ineuron ineuron\n",
    "\n",
    "# Q2 : Print below\n",
    "#           ineuron\n",
    "#      ineuron    ineuron\n",
    "# ineuron   ineuron    ineuron\n",
    "#      ineuron    ineuron\n",
    "#           ineuron\n",
    "\n",
    "    \n",
    "# l =[[1,2,3,4,5],(2,3,4,5,6),(3,4,5,6),set([4,5,6,7,23,112,211]), {\"k1\":\"ravi\",\"k2\":\"ranjan\",\"k3\":\"kumar\", 3:6,7:8},\n",
    "#         [\"ineuron\",\"datasciences\"]]\n",
    "    \n",
    "# q3: extrat all list entity\n",
    "# q4: extact all dictionary entity\n",
    "# q5: extract all tuple \n",
    "# q6: extract all numerical value \n",
    "# q7: summation of all numerical value\n",
    "# q8: odd values of all numerical data which are part of list\n",
    "# q9: extract \"ineuron\"\n",
    "# q10: find number of occurrence of all data\n",
    "# q11: find number of keys in dictionary element\n",
    "# q12: filter out string element\n",
    "# q13: find alphanumeric in data eg k1, k2\n",
    "# q14: find multiplication of all individual collection inside dataset\n",
    "# q15: unwrap all elements from list into a single list\n",
    "    "
   ]
  },
  {
   "cell_type": "code",
   "execution_count": 180,
   "id": "af5e0a26",
   "metadata": {},
   "outputs": [],
   "source": [
    "l =[[1,2,3,4,5],(2,3,4,5,6),(3,4,5,6),set([4,5,6,7,23,112,211]), {\"k1\":\"ravi\",\"k2\":\"ineuron\",\"k3\":\"kumar\", 3:6,7:8},\n",
    "        [\"ineuron\",\"datasicences\"]]\n"
   ]
  },
  {
   "cell_type": "code",
   "execution_count": 162,
   "id": "c49ff0d9",
   "metadata": {},
   "outputs": [
    {
     "name": "stdout",
     "output_type": "stream",
     "text": [
      "[1, 2, 3, 4, 5]\n",
      "['ineueron', 'datasicences']\n"
     ]
    }
   ],
   "source": [
    "# q3: extrat all list entity\n",
    "for i in l:\n",
    "    if type(i)== list:\n",
    "        print(i)\n"
   ]
  },
  {
   "cell_type": "code",
   "execution_count": 163,
   "id": "fcded5e6",
   "metadata": {},
   "outputs": [
    {
     "name": "stdout",
     "output_type": "stream",
     "text": [
      "{'k1': 'ravi', 'k2': 'ranjan', 'k3': 'kumar', 3: 6, 7: 8}\n"
     ]
    }
   ],
   "source": [
    "# q4: extact all dictionary entity\n",
    "for i in l:\n",
    "    if type(i)== dict:\n",
    "        print(i)"
   ]
  },
  {
   "cell_type": "code",
   "execution_count": 164,
   "id": "ea14a21e",
   "metadata": {},
   "outputs": [
    {
     "name": "stdout",
     "output_type": "stream",
     "text": [
      "(2, 3, 4, 5, 6)\n",
      "(3, 4, 5, 6)\n"
     ]
    }
   ],
   "source": [
    "# q5: extract all tuple \n",
    "for i in l:\n",
    "    if type(i)== tuple:\n",
    "        print(i)"
   ]
  },
  {
   "cell_type": "code",
   "execution_count": 168,
   "id": "50f4f40c",
   "metadata": {},
   "outputs": [
    {
     "name": "stdout",
     "output_type": "stream",
     "text": [
      "[1, 2, 3, 4, 5, 2, 3, 4, 5, 6, 3, 4, 5, 6, 4, 5, 6, 7, 112, 211, 23, 3, 7]\n"
     ]
    }
   ],
   "source": [
    "# q6: extract all numerical value \n",
    "list1 = []\n",
    "for i in l:\n",
    "    for j in i:\n",
    "        if type(j)== int:\n",
    "            list1.append(j)\n",
    "print(list1)"
   ]
  },
  {
   "cell_type": "code",
   "execution_count": 169,
   "id": "02581708",
   "metadata": {},
   "outputs": [
    {
     "name": "stdout",
     "output_type": "stream",
     "text": [
      "431\n"
     ]
    }
   ],
   "source": [
    "# q7: summation of all numerical value\n",
    "list1 = []\n",
    "for i in l:\n",
    "    for j in i:\n",
    "        if type(j)== int:\n",
    "            list1.append(j)\n",
    "\n",
    "total = 0\n",
    "for k in list1:\n",
    "    total = total + k\n",
    "print(total)"
   ]
  },
  {
   "cell_type": "code",
   "execution_count": 170,
   "id": "a04c9fa1",
   "metadata": {},
   "outputs": [
    {
     "name": "stdout",
     "output_type": "stream",
     "text": [
      "1\n",
      "3\n",
      "5\n",
      "3\n",
      "5\n",
      "3\n",
      "5\n",
      "5\n",
      "7\n",
      "211\n",
      "23\n",
      "3\n",
      "7\n"
     ]
    }
   ],
   "source": [
    "# q8: odd values of all numerical data which are part of list\n",
    "list1 = []\n",
    "for i in l:\n",
    "    for j in i:\n",
    "        if type(j)== int:\n",
    "            list1.append(j)\n",
    "\n",
    "for k in list1:\n",
    "    if k % 2 != 0:\n",
    "        print(k)\n"
   ]
  },
  {
   "cell_type": "code",
   "execution_count": 192,
   "id": "144d95a7",
   "metadata": {},
   "outputs": [
    {
     "name": "stdout",
     "output_type": "stream",
     "text": [
      "['ineuron', 'ineuron']\n"
     ]
    }
   ],
   "source": [
    "# q9: extract \"ineuron\"\n",
    "l3=[]\n",
    "for i in l:\n",
    "    if type(i)== list:\n",
    "        for k in i:\n",
    "            if k == \"ineuron\":\n",
    "                l3.append(k)\n",
    "    if type(i)== dict:\n",
    "        for j,k in i.items():\n",
    "            if k == \"ineuron\":\n",
    "                l3.append(k)\n",
    "print(l3)"
   ]
  },
  {
   "cell_type": "code",
   "execution_count": 205,
   "id": "89da886a",
   "metadata": {},
   "outputs": [
    {
     "name": "stdout",
     "output_type": "stream",
     "text": [
      "1 1\n",
      "2 2\n",
      "3 4\n",
      "4 4\n",
      "5 4\n",
      "6 4\n",
      "7 2\n",
      "ravi 1\n",
      "kumar 1\n",
      "8 1\n",
      "datasicences 1\n",
      "k1 1\n",
      "ineuron 2\n",
      "112 1\n",
      "211 1\n",
      "k3 1\n",
      "23 1\n",
      "k2 1\n"
     ]
    }
   ],
   "source": [
    "# q10: find number of occurrence of all data\n",
    "l4 = []\n",
    "for i in l:\n",
    "    if type(i)== dict:\n",
    "        for j,k in i.items():\n",
    "            l4.append(j)\n",
    "            l4.append(k)\n",
    "    else:\n",
    "        for j in i:\n",
    "            l4.append(j)\n",
    "\n",
    "        \n",
    "for i in (set(l4)):\n",
    "    print(i,l4.count(i))"
   ]
  },
  {
   "cell_type": "code",
   "execution_count": 218,
   "id": "cc1391e6",
   "metadata": {},
   "outputs": [
    {
     "name": "stdout",
     "output_type": "stream",
     "text": [
      "all key values :['k1', 'k2', 'k3', 3, 7]\n",
      "number of key:5\n"
     ]
    }
   ],
   "source": [
    "# q11: find number of keys in dictionary element\n",
    "l5 = []\n",
    "for i in l:\n",
    "    if type(i)== dict:\n",
    "        for j,k in i.items():\n",
    "            l5.append(j)\n",
    "print(f\"all key values :{l5}\")\n",
    "print(f\"number of key:{len(l5)}\")"
   ]
  },
  {
   "cell_type": "code",
   "execution_count": 220,
   "id": "ad7bafc7",
   "metadata": {},
   "outputs": [
    {
     "name": "stdout",
     "output_type": "stream",
     "text": [
      "k1\n",
      "ravi\n",
      "k2\n",
      "ineuron\n",
      "k3\n",
      "kumar\n",
      "ineuron\n",
      "datasicences\n"
     ]
    }
   ],
   "source": [
    "# q12: filter out string element\n",
    "l6 = []\n",
    "for i in l:\n",
    "    if type(i)== dict:\n",
    "        for j,k in i.items():\n",
    "            l6.append(j)\n",
    "            l6.append(k)\n",
    "    else:\n",
    "        for j in i:\n",
    "            l6.append(j)\n",
    "        \n",
    "for i in l6:\n",
    "    if type(i) == str:\n",
    "        print(i)"
   ]
  },
  {
   "cell_type": "code",
   "execution_count": 230,
   "id": "cf4af601",
   "metadata": {},
   "outputs": [
    {
     "name": "stdout",
     "output_type": "stream",
     "text": [
      "k1\n",
      "k2\n",
      "k3\n"
     ]
    }
   ],
   "source": [
    "# q13: find alphanumeric in data eg k1, k2\n",
    "l7 = []\n",
    "for i in l:\n",
    "    if type(i)== dict:\n",
    "        for j,k in i.items():\n",
    "            l7.append(j)\n",
    "            l7.append(k)\n",
    "    else:\n",
    "        for j in i:\n",
    "            l7.append(j)\n",
    "\n",
    "intlist= ['0','1','2','3','4','5','6','7','8','9']\n",
    "for i in l7:\n",
    "    if type(i)== str:\n",
    "        for j in str(i):\n",
    "            if j in intlist:\n",
    "                print(i)"
   ]
  },
  {
   "cell_type": "code",
   "execution_count": 244,
   "id": "129dcb34",
   "metadata": {},
   "outputs": [
    {
     "name": "stdout",
     "output_type": "stream",
     "text": [
      "[[1, 2, 3, 4, 5], (2, 3, 4, 5, 6), (3, 4, 5, 6), {4, 5, 6, 7, 112, 211, 23}, {'k1': 'ravi', 'k2': 'ineuron', 'k3': 'kumar', 3: 6, 7: 8}, ['ineuron', 'datasicences']]\n",
      "result*****\n",
      "120\n",
      "720\n",
      "360\n",
      "456570240\n",
      "Dictionary total : 1008\n",
      "1\n"
     ]
    }
   ],
   "source": [
    "# q14: find multiplication of all individual collection inside dataset\n",
    "print(l)\n",
    "l8 = []\n",
    "print(\"result*****\")\n",
    "for i in l:\n",
    "    total = 1\n",
    "    if type(i)== dict:\n",
    "        for j,k in i.items():\n",
    "            if type(j) == int:\n",
    "                total *= j\n",
    "            if type(k) == int:\n",
    "                total *= k\n",
    "        print(f\"Dictionary total : {total}\") \n",
    "    else:\n",
    "        for j in i:\n",
    "            if type(j)== int:\n",
    "                total *= j\n",
    "        print(total)\n",
    "            \n"
   ]
  },
  {
   "cell_type": "code",
   "execution_count": 233,
   "id": "11da5d74",
   "metadata": {},
   "outputs": [
    {
     "name": "stdout",
     "output_type": "stream",
     "text": [
      "[1, 2, 3, 4, 5, 2, 3, 4, 5, 6, 3, 4, 5, 6, 4, 5, 6, 7, 112, 211, 23, 'k1', 'ravi', 'k2', 'ineuron', 'k3', 'kumar', 3, 6, 7, 8, 'ineuron', 'datasicences']\n"
     ]
    }
   ],
   "source": [
    "# q15: unwrap all elements from list into a single list\n",
    "l9 = []\n",
    "for i in l:\n",
    "    if type(i)== dict:\n",
    "        for j,k in i.items():\n",
    "            l9.append(j)\n",
    "            l9.append(k)\n",
    "    else:\n",
    "        for j in i:\n",
    "            l9.append(j)\n",
    "        \n",
    "print(l9)"
   ]
  },
  {
   "cell_type": "code",
   "execution_count": null,
   "id": "6489ea2a",
   "metadata": {},
   "outputs": [],
   "source": []
  }
 ],
 "metadata": {
  "kernelspec": {
   "display_name": "Python 3 (ipykernel)",
   "language": "python",
   "name": "python3"
  },
  "language_info": {
   "codemirror_mode": {
    "name": "ipython",
    "version": 3
   },
   "file_extension": ".py",
   "mimetype": "text/x-python",
   "name": "python",
   "nbconvert_exporter": "python",
   "pygments_lexer": "ipython3",
   "version": "3.9.7"
  }
 },
 "nbformat": 4,
 "nbformat_minor": 5
}
